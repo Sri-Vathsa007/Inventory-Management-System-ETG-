{
 "cells": [
  {
   "cell_type": "code",
   "execution_count": 1,
   "metadata": {},
   "outputs": [],
   "source": [
    "records = {\n",
    "    100: {\n",
    "        \"Product Name\":\"Lays\",\"Quantity\":300,\"Price\":20,\"Manufacturer Date\":\"Best before three months from packing\",\"Exp.date\":\"2021/10/1\",\"Type\":\"Snacks\"\n",
    "    },\n",
    "    101:{\n",
    "        \"Product Name\":\"Kurkure\",\"Quantity\":300,\"Price\":20,\"Manufacturer Date\":\"Best before three months from packing\",\"Exp.date\":\"2021/10/10\",\"Type\":\"Snacks\"\n",
    "    },\n",
    "    102:{\n",
    "        \"Product Name\":\"Bingo\",\"Quantity\":300,\"Price\":20,\"Manufacturer Date\":\"Best before three months from packing\",\"Exp.date\":\"2021/10/15\",\"Type\":\"Snacks\"\n",
    "    },\n",
    "    103:{\n",
    "        \"Product Name\":\"Mad Angles\",\"Quantity\":100,\"Price\":20,\"Manufacturer Date\":\"Best before three months from packing\",\"Exp.date\":\"2021/10/17\",\"Type\":\"Snacks\"\n",
    "    },\n",
    "    104:{\n",
    "        \"Product Name\":\"Cheetos\",\"Quantity\":200,\"Price\":20,\"Manufacturer Date\":\"Best before three months from packing\",\"Exp.date\":\"2021/10/20\",\"Type\":\"Snacks\"\n",
    "    },\n",
    "    105:{\n",
    "        \"Product Name\":\"Doritoes\",\"Quantity\":300,\"Price\":30,\"Manufacturer Date\":\"Best before three months from packing\",\"Exp.date\":\"2021/10/23\",\"Type\":\"Snacks\"\n",
    "    },\n",
    "    106:{\n",
    "        \"Product Name\":\"Moong Daal\",\"Quantity\":300,\"Price\":20,\"Manufacturer Date\":\"Best before three months from packing\",\"Exp.date\":\"2021/10/26\",\"Type\":\"Snacks\"\n",
    "    },\n",
    "    107:{\n",
    "        \"Product Name\":\"Potato chips\",\"Quantity\":300,\"Price\":20,\"Manufacturer Date\":\"Best before three months from packing\",\"Exp.date\":\"2021/10/27\",\"Type\":\"Snacks\"\n",
    "    },\n",
    "    108:{\n",
    "        \"Product Name\":\"5 Star\",\"Quantity\":200,\"Price\":20,\"Manufacturer Date\":\"Best before three months from packing\",\"Exp.date\":\"2021/10/30\",\"Type\":\"Chocolate\"\n",
    "    },\n",
    "    109:{\n",
    "        \"Product Name\":\"Milky Bar\",\"Quantity\":240,\"Price\":20,\"Manufacturer Date\":\"Best before three months from packing\",\"Exp.date\":\"2021/11/01\",\"Type\":\"Chocolate\"\n",
    "    },\n",
    "    110:{\n",
    "        \"Product Name\":\"Kit Kat\",\"Quantity\":100,\"Price\":10,\"Manufacturer Date\":\"Best before three months from packing\",\"Exp.date\":\"2021/11/03\",\"Type\":\"Chocolate\"\n",
    "    },\n",
    "    111:{\n",
    "        \"Product Name\":\"Dairy Milk\",\"Quantity\":50,\"Price\":20,\"Manufacturer Date\":\"Best before three months from packing\",\"Exp.date\":\"2021/11/06\",\"Type\":\"Chocolate\"\n",
    "    },\n",
    "    112:{\n",
    "        \"Product Name\":\"Sneakers\",\"Quantity\":30,\"Price\":35,\"Manufacturer Date\":\"Best before three months from packing\",\"Exp.date\":\"2021/11/09\",\"Type\":\"Chocolate\"\n",
    "    },\n",
    "    113:{\n",
    "        \"Product Name\":\"Maggie Noodles\",\"Quantity\":245,\"Price\":20,\"Manufacturer Date\":\"Best before three months from packing\",\"Exp.date\":\"2021/11/13\",\"Type\":\"Noodles\"\n",
    "    },\n",
    "    114:{\n",
    "        \"Product Name\":\"Yippe Noodeles\",\"Quantity\":135,\"Price\":20,\"Manufacturer Date\":\"Best before three months from packing\",\"Exp.date\":\"2021/11/16\",\"Type\":\"Noodles\"\n",
    "    },\n",
    "    115:{\n",
    "        \"Product Name\":\"Patanjali Noodles\",\"Quantity\":45,\"Price\":20,\"Manufacturer Date\":\"Best before three months from packing\",\"Exp.date\":\"2021/11/19\",\"Type\":\"Noodles\"\n",
    "    },\n",
    "    116:{\n",
    "        \"Product Name\":\"Cashew Nuts(400gm)\",\"Quantity\":240,\"Price\":409,\"Manufacturer Date\":\"Best before ten months from packing\",\"Exp.date\":\"2021/11/23\",\"Type\":\"Nuts\"\n",
    "    },\n",
    "    117:{\n",
    "        \"Product Name\":\"Pista(200gm)\",\"Quantity\":240,\"Price\":400,\"Manufacturer Date\":\"Best before ten months from packing\",\"Exp.date\":\"2021/11/25\",\"Type\":\"Nuts\"\n",
    "    },\n",
    "    118:{\n",
    "        \"Product Name\":\"Almonds(345gm)\",\"Quantity\":240,\"Price\":700,\"Manufacturer Date\":\"Best before ten months from packing\",\"Exp.date\":\"2021/11/27\",\"Type\":\"Nuts\"\n",
    "    },\n",
    "    119:{\n",
    "        \"Product Name\":\"Sprit\",\"Quantity\":50,\"Price\":40,\"Manufacturer Date\":\"Best before four months from packing\",\"Exp.date\":\"2021/11/30\",\"Type\":\"Drinks\"\n",
    "    },\n",
    "    120:{\n",
    "        \"Product Name\":\"Pepsi\",\"Quantity\":50,\"Price\":40,\"Manufacturer Date\":\"Best before four months from packing\",\"Exp.date\":\"2021/12/01\",\"Type\":\"Drinks\"\n",
    "    },\n",
    "    121:{\n",
    "        \"Product Name\":\"Coco Cola\",\"Quantity\":70,\"Price\":35,\"Manufacturer Date\":\"Best before four months from packing\",\"Exp.date\":\"2021/12/03\",\"Type\":\"Drinks\"\n",
    "    },\n",
    "    122:{\n",
    "        \"Product Name\":\"Maaja\",\"Quantity\":80,\"Price\":35,\"Manufacturer Date\":\"Best before four months from packing\",\"Exp.date\":\"2021/12/06\",\"Type\":\"Drinks\"\n",
    "    },\n",
    "    123:{\n",
    "        \"Product Name\":\"Mountain Dew\",\"Quantity\":55,\"Price\":55,\"Manufacturer Date\":\"Best before four months from packing\",\"Exp.date\":\"2021/12/09\",\"Type\":\"Drinks\"\n",
    "    },\n",
    "    124:{\n",
    "        \"Product Name\":\"Mirinda\",\"Quantity\":70,\"Price\":35,\"Manufacturer Date\":\"Best before four months from packing\",\"Exp.date\":\"2021/12/11\",\"Type\":\"Drinks\"\n",
    "    },\n",
    "    125:{\n",
    "        \"Product Name\":\"Giorgio Armani\",\"Quantity\":20,\"Price\":5500,\"Manufacturer Date\":\"Best before four months from packing\",\"Exp.date\":\"2022/12/03\",\"Type\":\"Mens Perfume\"\n",
    "    },\n",
    "    126:{\n",
    "        \"Product Name\":\"Mont Blanc\",\"Quantity\":20,\"Price\":3100,\"Manufacturer Date\":\"Best before four months from packing\",\"Exp.date\":\"2022/12/09\",\"Type\":\"Mens Perfume\"\n",
    "    },\n",
    "    127:{\n",
    "        \"Product Name\":\"Gucci\",\"Quantity\":20,\"Price\":8350,\"Manufacturer Date\":\"Best before four months from packing\",\"Exp.date\":\"2022/11/03\",\"Type\":\"Mens Perfume\"\n",
    "    },\n",
    "    128:{\n",
    "        \"Product Name\":\"Engage W2\",\"Quantity\":20,\"Price\":189,\"Manufacturer Date\":\"Best before four months from packing\",\"Exp.date\":\"2022/10/03\",\"Type\":\"Womens Perfume\"\n",
    "    },\n",
    "    129:{\n",
    "        \"Product Name\":\"LA French Party Girl\",\"Quantity\":30,\"Price\":499,\"Manufacturer Date\":\"Best before four months from packing\",\"Exp.date\":\"2022/09/03\",\"Type\":\"Womens Perfume\"\n",
    "    },\n",
    "    130:{\n",
    "        \"Product Name\":\"Body Cupid Rose Oud\",\"Quantity\":35,\"Price\":450,\"Manufacturer Date\":\"Best before four months from packing\",\"Exp.date\":\"2022/12/03\",\"Type\":\"Womens Perfume\"\n",
    "    }\n",
    "\n",
    "}"
   ]
  },
  {
   "cell_type": "code",
   "execution_count": 2,
   "metadata": {},
   "outputs": [
    {
     "data": {
      "text/plain": [
       "'{\"100\": {\"Product Name\": \"Lays\", \"Quantity\": 300, \"Price\": 20, \"Manufacturer Date\": \"Best before three months from packing\", \"Exp.date\": \"2021/10/1\", \"Type\": \"Snacks\"}, \"101\": {\"Product Name\": \"Kurkure\", \"Quantity\": 300, \"Price\": 20, \"Manufacturer Date\": \"Best before three months from packing\", \"Exp.date\": \"2021/10/10\", \"Type\": \"Snacks\"}, \"102\": {\"Product Name\": \"Bingo\", \"Quantity\": 300, \"Price\": 20, \"Manufacturer Date\": \"Best before three months from packing\", \"Exp.date\": \"2021/10/15\", \"Type\": \"Snacks\"}, \"103\": {\"Product Name\": \"Mad Angles\", \"Quantity\": 100, \"Price\": 20, \"Manufacturer Date\": \"Best before three months from packing\", \"Exp.date\": \"2021/10/17\", \"Type\": \"Snacks\"}, \"104\": {\"Product Name\": \"Cheetos\", \"Quantity\": 200, \"Price\": 20, \"Manufacturer Date\": \"Best before three months from packing\", \"Exp.date\": \"2021/10/20\", \"Type\": \"Snacks\"}, \"105\": {\"Product Name\": \"Doritoes\", \"Quantity\": 300, \"Price\": 30, \"Manufacturer Date\": \"Best before three months from packing\", \"Exp.date\": \"2021/10/23\", \"Type\": \"Snacks\"}, \"106\": {\"Product Name\": \"Moong Daal\", \"Quantity\": 300, \"Price\": 20, \"Manufacturer Date\": \"Best before three months from packing\", \"Exp.date\": \"2021/10/26\", \"Type\": \"Snacks\"}, \"107\": {\"Product Name\": \"Potato chips\", \"Quantity\": 300, \"Price\": 20, \"Manufacturer Date\": \"Best before three months from packing\", \"Exp.date\": \"2021/10/27\", \"Type\": \"Snacks\"}, \"108\": {\"Product Name\": \"5 Star\", \"Quantity\": 200, \"Price\": 20, \"Manufacturer Date\": \"Best before three months from packing\", \"Exp.date\": \"2021/10/30\", \"Type\": \"Chocolate\"}, \"109\": {\"Product Name\": \"Milky Bar\", \"Quantity\": 240, \"Price\": 20, \"Manufacturer Date\": \"Best before three months from packing\", \"Exp.date\": \"2021/11/01\", \"Type\": \"Chocolate\"}, \"110\": {\"Product Name\": \"Kit Kat\", \"Quantity\": 100, \"Price\": 10, \"Manufacturer Date\": \"Best before three months from packing\", \"Exp.date\": \"2021/11/03\", \"Type\": \"Chocolate\"}, \"111\": {\"Product Name\": \"Dairy Milk\", \"Quantity\": 50, \"Price\": 20, \"Manufacturer Date\": \"Best before three months from packing\", \"Exp.date\": \"2021/11/06\", \"Type\": \"Chocolate\"}, \"112\": {\"Product Name\": \"Sneakers\", \"Quantity\": 30, \"Price\": 35, \"Manufacturer Date\": \"Best before three months from packing\", \"Exp.date\": \"2021/11/09\", \"Type\": \"Chocolate\"}, \"113\": {\"Product Name\": \"Maggie Noodles\", \"Quantity\": 245, \"Price\": 20, \"Manufacturer Date\": \"Best before three months from packing\", \"Exp.date\": \"2021/11/13\", \"Type\": \"Noodles\"}, \"114\": {\"Product Name\": \"Yippe Noodeles\", \"Quantity\": 135, \"Price\": 20, \"Manufacturer Date\": \"Best before three months from packing\", \"Exp.date\": \"2021/11/16\", \"Type\": \"Noodles\"}, \"115\": {\"Product Name\": \"Patanjali Noodles\", \"Quantity\": 45, \"Price\": 20, \"Manufacturer Date\": \"Best before three months from packing\", \"Exp.date\": \"2021/11/19\", \"Type\": \"Noodles\"}, \"116\": {\"Product Name\": \"Cashew Nuts(400gm)\", \"Quantity\": 240, \"Price\": 409, \"Manufacturer Date\": \"Best before ten months from packing\", \"Exp.date\": \"2021/11/23\", \"Type\": \"Nuts\"}, \"117\": {\"Product Name\": \"Pista(200gm)\", \"Quantity\": 240, \"Price\": 400, \"Manufacturer Date\": \"Best before ten months from packing\", \"Exp.date\": \"2021/11/25\", \"Type\": \"Nuts\"}, \"118\": {\"Product Name\": \"Almonds(345gm)\", \"Quantity\": 240, \"Price\": 700, \"Manufacturer Date\": \"Best before ten months from packing\", \"Exp.date\": \"2021/11/27\", \"Type\": \"Nuts\"}, \"119\": {\"Product Name\": \"Sprit\", \"Quantity\": 50, \"Price\": 40, \"Manufacturer Date\": \"Best before four months from packing\", \"Exp.date\": \"2021/11/30\", \"Type\": \"Drinks\"}, \"120\": {\"Product Name\": \"Pepsi\", \"Quantity\": 50, \"Price\": 40, \"Manufacturer Date\": \"Best before four months from packing\", \"Exp.date\": \"2021/12/01\", \"Type\": \"Drinks\"}, \"121\": {\"Product Name\": \"Coco Cola\", \"Quantity\": 70, \"Price\": 35, \"Manufacturer Date\": \"Best before four months from packing\", \"Exp.date\": \"2021/12/03\", \"Type\": \"Drinks\"}, \"122\": {\"Product Name\": \"Maaja\", \"Quantity\": 80, \"Price\": 35, \"Manufacturer Date\": \"Best before four months from packing\", \"Exp.date\": \"2021/12/06\", \"Type\": \"Drinks\"}, \"123\": {\"Product Name\": \"Mountain Dew\", \"Quantity\": 55, \"Price\": 55, \"Manufacturer Date\": \"Best before four months from packing\", \"Exp.date\": \"2021/12/09\", \"Type\": \"Drinks\"}, \"124\": {\"Product Name\": \"Mirinda\", \"Quantity\": 70, \"Price\": 35, \"Manufacturer Date\": \"Best before four months from packing\", \"Exp.date\": \"2021/12/11\", \"Type\": \"Drinks\"}, \"125\": {\"Product Name\": \"Giorgio Armani\", \"Quantity\": 20, \"Price\": 5500, \"Manufacturer Date\": \"Best before four months from packing\", \"Exp.date\": \"2022/12/03\", \"Type\": \"Mens Perfume\"}, \"126\": {\"Product Name\": \"Mont Blanc\", \"Quantity\": 20, \"Price\": 3100, \"Manufacturer Date\": \"Best before four months from packing\", \"Exp.date\": \"2022/12/09\", \"Type\": \"Mens Perfume\"}, \"127\": {\"Product Name\": \"Gucci\", \"Quantity\": 20, \"Price\": 8350, \"Manufacturer Date\": \"Best before four months from packing\", \"Exp.date\": \"2022/11/03\", \"Type\": \"Mens Perfume\"}, \"128\": {\"Product Name\": \"Engage W2\", \"Quantity\": 20, \"Price\": 189, \"Manufacturer Date\": \"Best before four months from packing\", \"Exp.date\": \"2022/10/03\", \"Type\": \"Womens Perfume\"}, \"129\": {\"Product Name\": \"LA French Party Girl\", \"Quantity\": 30, \"Price\": 499, \"Manufacturer Date\": \"Best before four months from packing\", \"Exp.date\": \"2022/09/03\", \"Type\": \"Womens Perfume\"}, \"130\": {\"Product Name\": \"Body Cupid Rose Oud\", \"Quantity\": 35, \"Price\": 450, \"Manufacturer Date\": \"Best before four months from packing\", \"Exp.date\": \"2022/12/03\", \"Type\": \"Womens Perfume\"}}'"
      ]
     },
     "execution_count": 2,
     "metadata": {},
     "output_type": "execute_result"
    }
   ],
   "source": [
    "import json as js\n",
    "\n",
    "json_file = js.dumps(records)\n",
    "json_file"
   ]
  },
  {
   "cell_type": "code",
   "execution_count": 3,
   "metadata": {},
   "outputs": [],
   "source": [
    "file = open(\"inventory.json\", \"w\")\n",
    "file.write(json_file)\n",
    "file.close()"
   ]
  },
  {
   "cell_type": "code",
   "execution_count": 4,
   "metadata": {},
   "outputs": [],
   "source": [
    "read_file = open(\"inventory.json\")\n",
    "my_items = read_file.read()\n",
    "my_items\n",
    "read_file.close()"
   ]
  },
  {
   "cell_type": "code",
   "execution_count": 5,
   "metadata": {},
   "outputs": [
    {
     "data": {
      "text/plain": [
       "{'100': {'Product Name': 'Lays',\n",
       "  'Quantity': 300,\n",
       "  'Price': 20,\n",
       "  'Manufacturer Date': 'Best before three months from packing',\n",
       "  'Exp.date': '2021/10/1',\n",
       "  'Type': 'Snacks'},\n",
       " '101': {'Product Name': 'Kurkure',\n",
       "  'Quantity': 300,\n",
       "  'Price': 20,\n",
       "  'Manufacturer Date': 'Best before three months from packing',\n",
       "  'Exp.date': '2021/10/10',\n",
       "  'Type': 'Snacks'},\n",
       " '102': {'Product Name': 'Bingo',\n",
       "  'Quantity': 300,\n",
       "  'Price': 20,\n",
       "  'Manufacturer Date': 'Best before three months from packing',\n",
       "  'Exp.date': '2021/10/15',\n",
       "  'Type': 'Snacks'},\n",
       " '103': {'Product Name': 'Mad Angles',\n",
       "  'Quantity': 100,\n",
       "  'Price': 20,\n",
       "  'Manufacturer Date': 'Best before three months from packing',\n",
       "  'Exp.date': '2021/10/17',\n",
       "  'Type': 'Snacks'},\n",
       " '104': {'Product Name': 'Cheetos',\n",
       "  'Quantity': 200,\n",
       "  'Price': 20,\n",
       "  'Manufacturer Date': 'Best before three months from packing',\n",
       "  'Exp.date': '2021/10/20',\n",
       "  'Type': 'Snacks'},\n",
       " '105': {'Product Name': 'Doritoes',\n",
       "  'Quantity': 300,\n",
       "  'Price': 30,\n",
       "  'Manufacturer Date': 'Best before three months from packing',\n",
       "  'Exp.date': '2021/10/23',\n",
       "  'Type': 'Snacks'},\n",
       " '106': {'Product Name': 'Moong Daal',\n",
       "  'Quantity': 300,\n",
       "  'Price': 20,\n",
       "  'Manufacturer Date': 'Best before three months from packing',\n",
       "  'Exp.date': '2021/10/26',\n",
       "  'Type': 'Snacks'},\n",
       " '107': {'Product Name': 'Potato chips',\n",
       "  'Quantity': 300,\n",
       "  'Price': 20,\n",
       "  'Manufacturer Date': 'Best before three months from packing',\n",
       "  'Exp.date': '2021/10/27',\n",
       "  'Type': 'Snacks'},\n",
       " '108': {'Product Name': '5 Star',\n",
       "  'Quantity': 200,\n",
       "  'Price': 20,\n",
       "  'Manufacturer Date': 'Best before three months from packing',\n",
       "  'Exp.date': '2021/10/30',\n",
       "  'Type': 'Chocolate'},\n",
       " '109': {'Product Name': 'Milky Bar',\n",
       "  'Quantity': 240,\n",
       "  'Price': 20,\n",
       "  'Manufacturer Date': 'Best before three months from packing',\n",
       "  'Exp.date': '2021/11/01',\n",
       "  'Type': 'Chocolate'},\n",
       " '110': {'Product Name': 'Kit Kat',\n",
       "  'Quantity': 100,\n",
       "  'Price': 10,\n",
       "  'Manufacturer Date': 'Best before three months from packing',\n",
       "  'Exp.date': '2021/11/03',\n",
       "  'Type': 'Chocolate'},\n",
       " '111': {'Product Name': 'Dairy Milk',\n",
       "  'Quantity': 50,\n",
       "  'Price': 20,\n",
       "  'Manufacturer Date': 'Best before three months from packing',\n",
       "  'Exp.date': '2021/11/06',\n",
       "  'Type': 'Chocolate'},\n",
       " '112': {'Product Name': 'Sneakers',\n",
       "  'Quantity': 30,\n",
       "  'Price': 35,\n",
       "  'Manufacturer Date': 'Best before three months from packing',\n",
       "  'Exp.date': '2021/11/09',\n",
       "  'Type': 'Chocolate'},\n",
       " '113': {'Product Name': 'Maggie Noodles',\n",
       "  'Quantity': 245,\n",
       "  'Price': 20,\n",
       "  'Manufacturer Date': 'Best before three months from packing',\n",
       "  'Exp.date': '2021/11/13',\n",
       "  'Type': 'Noodles'},\n",
       " '114': {'Product Name': 'Yippe Noodeles',\n",
       "  'Quantity': 135,\n",
       "  'Price': 20,\n",
       "  'Manufacturer Date': 'Best before three months from packing',\n",
       "  'Exp.date': '2021/11/16',\n",
       "  'Type': 'Noodles'},\n",
       " '115': {'Product Name': 'Patanjali Noodles',\n",
       "  'Quantity': 45,\n",
       "  'Price': 20,\n",
       "  'Manufacturer Date': 'Best before three months from packing',\n",
       "  'Exp.date': '2021/11/19',\n",
       "  'Type': 'Noodles'},\n",
       " '116': {'Product Name': 'Cashew Nuts(400gm)',\n",
       "  'Quantity': 240,\n",
       "  'Price': 409,\n",
       "  'Manufacturer Date': 'Best before ten months from packing',\n",
       "  'Exp.date': '2021/11/23',\n",
       "  'Type': 'Nuts'},\n",
       " '117': {'Product Name': 'Pista(200gm)',\n",
       "  'Quantity': 240,\n",
       "  'Price': 400,\n",
       "  'Manufacturer Date': 'Best before ten months from packing',\n",
       "  'Exp.date': '2021/11/25',\n",
       "  'Type': 'Nuts'},\n",
       " '118': {'Product Name': 'Almonds(345gm)',\n",
       "  'Quantity': 240,\n",
       "  'Price': 700,\n",
       "  'Manufacturer Date': 'Best before ten months from packing',\n",
       "  'Exp.date': '2021/11/27',\n",
       "  'Type': 'Nuts'},\n",
       " '119': {'Product Name': 'Sprit',\n",
       "  'Quantity': 50,\n",
       "  'Price': 40,\n",
       "  'Manufacturer Date': 'Best before four months from packing',\n",
       "  'Exp.date': '2021/11/30',\n",
       "  'Type': 'Drinks'},\n",
       " '120': {'Product Name': 'Pepsi',\n",
       "  'Quantity': 50,\n",
       "  'Price': 40,\n",
       "  'Manufacturer Date': 'Best before four months from packing',\n",
       "  'Exp.date': '2021/12/01',\n",
       "  'Type': 'Drinks'},\n",
       " '121': {'Product Name': 'Coco Cola',\n",
       "  'Quantity': 70,\n",
       "  'Price': 35,\n",
       "  'Manufacturer Date': 'Best before four months from packing',\n",
       "  'Exp.date': '2021/12/03',\n",
       "  'Type': 'Drinks'},\n",
       " '122': {'Product Name': 'Maaja',\n",
       "  'Quantity': 80,\n",
       "  'Price': 35,\n",
       "  'Manufacturer Date': 'Best before four months from packing',\n",
       "  'Exp.date': '2021/12/06',\n",
       "  'Type': 'Drinks'},\n",
       " '123': {'Product Name': 'Mountain Dew',\n",
       "  'Quantity': 55,\n",
       "  'Price': 55,\n",
       "  'Manufacturer Date': 'Best before four months from packing',\n",
       "  'Exp.date': '2021/12/09',\n",
       "  'Type': 'Drinks'},\n",
       " '124': {'Product Name': 'Mirinda',\n",
       "  'Quantity': 70,\n",
       "  'Price': 35,\n",
       "  'Manufacturer Date': 'Best before four months from packing',\n",
       "  'Exp.date': '2021/12/11',\n",
       "  'Type': 'Drinks'},\n",
       " '125': {'Product Name': 'Giorgio Armani',\n",
       "  'Quantity': 20,\n",
       "  'Price': 5500,\n",
       "  'Manufacturer Date': 'Best before four months from packing',\n",
       "  'Exp.date': '2022/12/03',\n",
       "  'Type': 'Mens Perfume'},\n",
       " '126': {'Product Name': 'Mont Blanc',\n",
       "  'Quantity': 20,\n",
       "  'Price': 3100,\n",
       "  'Manufacturer Date': 'Best before four months from packing',\n",
       "  'Exp.date': '2022/12/09',\n",
       "  'Type': 'Mens Perfume'},\n",
       " '127': {'Product Name': 'Gucci',\n",
       "  'Quantity': 20,\n",
       "  'Price': 8350,\n",
       "  'Manufacturer Date': 'Best before four months from packing',\n",
       "  'Exp.date': '2022/11/03',\n",
       "  'Type': 'Mens Perfume'},\n",
       " '128': {'Product Name': 'Engage W2',\n",
       "  'Quantity': 20,\n",
       "  'Price': 189,\n",
       "  'Manufacturer Date': 'Best before four months from packing',\n",
       "  'Exp.date': '2022/10/03',\n",
       "  'Type': 'Womens Perfume'},\n",
       " '129': {'Product Name': 'LA French Party Girl',\n",
       "  'Quantity': 30,\n",
       "  'Price': 499,\n",
       "  'Manufacturer Date': 'Best before four months from packing',\n",
       "  'Exp.date': '2022/09/03',\n",
       "  'Type': 'Womens Perfume'},\n",
       " '130': {'Product Name': 'Body Cupid Rose Oud',\n",
       "  'Quantity': 35,\n",
       "  'Price': 450,\n",
       "  'Manufacturer Date': 'Best before four months from packing',\n",
       "  'Exp.date': '2022/12/03',\n",
       "  'Type': 'Womens Perfume'}}"
      ]
     },
     "execution_count": 5,
     "metadata": {},
     "output_type": "execute_result"
    }
   ],
   "source": [
    "inventory_file = js.loads(my_items)\n",
    "inventory_file"
   ]
  },
  {
   "cell_type": "code",
   "execution_count": 6,
   "metadata": {},
   "outputs": [
    {
     "name": "stdout",
     "output_type": "stream",
     "text": [
      "Welcome to my Inventory\n",
      "\n",
      "We have\n",
      "1.Snacks\n",
      "2.Drinks\n",
      "3.Chocolates\n",
      "4.Noodles\n",
      "5.Nuts\n",
      "6.Mens Perfume\n",
      "7.Womens Perfume\n",
      "\n",
      "Type 'Snacks' or 'Drinks' or 'Chocolates'... to see the details of the particular item   Chocolates\n",
      "\n",
      "ProductID         Product Name            Quantity     Price             Manufacturer Date               Expiry Date\n",
      "----------------------------------------------------------------------------------------------------------------------------\n",
      "108                     5 Star                 200        20           Best before three months          2021/10/30\n",
      "109                  Milky Bar                 240        20           Best before three months          2021/11/01\n",
      "110                    Kit Kat                 100        10           Best before three months          2021/11/03\n",
      "111                 Dairy Milk                  50        20           Best before three months          2021/11/06\n",
      "112                   Sneakers                  30        35           Best before three months          2021/11/09\n"
     ]
    }
   ],
   "source": [
    "# Displaying the Items in my Cart\n",
    "\n",
    "print(\"Welcome to my Inventory\")\n",
    "print()\n",
    "print(\"We have\")\n",
    "print(\"1.Snacks\\n2.Drinks\\n3.Chocolates\\n4.Noodles\\n5.Nuts\\n6.Mens Perfume\\n7.Womens Perfume\")\n",
    "print()\n",
    "\n",
    "\n",
    "user_type = input(\"Type 'Snacks' or 'Drinks' or 'Chocolates'... to see the details of the particular item   \")\n",
    "print()\n",
    "\n",
    "\n",
    "product_id = \"ProductID\"\n",
    "product_column=\"Product Name\"\n",
    "quantity_column=\"Quantity\"\n",
    "price_column=\"Price\"\n",
    "manufacturer_date = \"Manufacturer Date\"\n",
    "expiry_date = \"Expiry Date\"\n",
    "print(f\"{product_id : <10}{product_column : >20}{quantity_column : >20}{price_column : >10}{manufacturer_date : >30}{expiry_date : >26}\")\n",
    "print(\"----\"*31)\n",
    "for i in inventory_file.items():\n",
    "    try:\n",
    "        if i[1][\"Type\"] in user_type.title():\n",
    "            product_id = i[0]\n",
    "            product_column=i[1][\"Product Name\"]\n",
    "            quantity_column=i[1][\"Quantity\"]\n",
    "            price_column=i[1][\"Price\"]\n",
    "            manufacturer_date = i[1][\"Manufacturer Date\"]\n",
    "            expiry_date = i[1][\"Exp.date\"]\n",
    "            print(f\"{product_id : <10}{product_column : >20}{quantity_column : >20}{price_column : >10}{manufacturer_date[:24] : >35}{expiry_date : >20}\")\n",
    "    except:\n",
    "        if i[1][\"Type\"] not in i[1][user_type]:\n",
    "            print(\"Please Choose form the above list\")"
   ]
  },
  {
   "cell_type": "code",
   "execution_count": 7,
   "metadata": {},
   "outputs": [
    {
     "name": "stdout",
     "output_type": "stream",
     "text": [
      "We have a special feature i.e enter ur budjet and we will warn you if your budjet exceeds the limit\n",
      "Rs.100\n",
      "\n",
      "Enter Product Id  100\n",
      "The product u have chosen is : Lays\n",
      "How many Lays(s) u want?   5\n",
      "\n",
      "Item added to cart\n",
      "Total Price is 100\n",
      "Remaining Budjet is 0\n",
      "\n",
      "Do u want to continue Shopping? If Yes type 'Y' else type 'N'n\n",
      "\n",
      "Thank You for shopping with us :)\n",
      "You saved Rs0.\n"
     ]
    }
   ],
   "source": [
    "# Asking the user to shop\n",
    "\n",
    "import random\n",
    "\n",
    "shopping_cart = {}\n",
    "if_shopping = True\n",
    "\n",
    "print(\"We have a special feature i.e enter ur budjet and we will warn you if your budjet exceeds the limit\")\n",
    "user_budget = int(input(\"Rs.\"))\n",
    "remaining_budjet = 0\n",
    "print()\n",
    "while if_shopping:\n",
    "    productid = input(\"Enter Product Id  \")\n",
    "    if productid in inventory_file:\n",
    "        print(f\"The product u have chosen is : {inventory_file[productid]['Product Name']}\")\n",
    "        product_quantity = input(f\"How many {inventory_file[productid]['Product Name']}(s) u want?   \")\n",
    "        if (int(product_quantity) <= int(inventory_file[productid][\"Quantity\"])):\n",
    "            print()\n",
    "            new_product_quantity = int(inventory_file[productid][\"Quantity\"]) - int(product_quantity)\n",
    "            inventory_file[productid][\"Quantity\"] = str(new_product_quantity)\n",
    "            total_price = int(inventory_file[productid][\"Price\"])*int(product_quantity)\n",
    "            if total_price <= user_budget:\n",
    "                print(\"Item added to cart\")\n",
    "                print(f\"Total Price is {total_price}\")\n",
    "                remaining_budjet = (total_price-user_budget)\n",
    "                print(f\"Remaining Budjet is {remaining_budjet}\")\n",
    "                print()\n",
    "                user_continue = input(\"Do u want to continue Shopping? If Yes type 'Y' else type 'N'\")\n",
    "                random_id = str(random.randint(100,999))\n",
    "                shopping_cart[random_id]={}\n",
    "                shopping_cart[random_id][\"Product ID\"]=productid\n",
    "                shopping_cart[random_id][\"Product Name\"]=inventory_file[productid][\"Product Name\"]\n",
    "                shopping_cart[random_id][\"Price\"]=inventory_file[productid][\"Price\"]\n",
    "                shopping_cart[random_id][\"Quantity\"]=product_quantity\n",
    "                shopping_cart[random_id][\"Total Price\"]=str(total_price)\n",
    "                if user_continue == \"N\".lower():\n",
    "                    if_shopping = False\n",
    "            else:\n",
    "                print(\"Sorry u dont have enough cash because\\nTotal Price is {} and your budjet is {}\".format(total_price,user_budget))\n",
    "                if_shopping = False\n",
    "\n",
    "        elif (int(product_quantity) >= int(inventory_file[productid][\"Quantity\"])):\n",
    "            print(\"Sorry we dont have {} stocks available now\".format(product_quantity))\n",
    "                                 \n",
    "print()           \n",
    "print(\"Thank You for shopping with us :)\")\n",
    "print(f\"You saved Rs{remaining_budjet}.\")"
   ]
  },
  {
   "cell_type": "code",
   "execution_count": 9,
   "metadata": {},
   "outputs": [
    {
     "name": "stdout",
     "output_type": "stream",
     "text": [
      "We have a special feature i.e enter ur budjet and we will warn you if your budjet exceeds the limit\n",
      "Rs.100\n",
      "\n",
      "Enter Product Id  104\n",
      "The product u have chosen is : Cheetos\n",
      "How many Cheetos(s) u want?   10\n",
      "\n",
      "Sorry u dont have enough cash because\n",
      "Total Price is 200 and your budjet is 100\n",
      "\n",
      "Thank You for shopping with us :)\n"
     ]
    }
   ],
   "source": [
    "# Asking the user to shop\n",
    "\n",
    "import random\n",
    "\n",
    "shopping_cart = {}\n",
    "if_shopping = True\n",
    "\n",
    "print(\"We have a special feature i.e enter ur budjet and we will warn you if your budjet exceeds the limit\")\n",
    "user_budget = int(input(\"Rs.\"))\n",
    "remaining_budjet = 0\n",
    "print()\n",
    "while if_shopping:\n",
    "    productid = input(\"Enter Product Id  \")\n",
    "    if productid in inventory_file:\n",
    "        print(f\"The product u have chosen is : {inventory_file[productid]['Product Name']}\")\n",
    "        product_quantity = input(f\"How many {inventory_file[productid]['Product Name']}(s) u want?   \")\n",
    "        if (int(product_quantity) <= int(inventory_file[productid][\"Quantity\"])):\n",
    "            print()\n",
    "            new_product_quantity = int(inventory_file[productid][\"Quantity\"]) - int(product_quantity)\n",
    "            inventory_file[productid][\"Quantity\"] = str(new_product_quantity)\n",
    "            total_price = int(inventory_file[productid][\"Price\"])*int(product_quantity)\n",
    "            if total_price <= user_budget:\n",
    "                print(\"Item added to cart\")\n",
    "                print(f\"Total Price is {total_price}\")\n",
    "                remaining_budjet = (total_price-user_budget)\n",
    "                print(f\"Remaining Budjet is {remaining_budjet}\")\n",
    "                print()\n",
    "                user_continue = input(\"Do u want to continue Shopping? If Yes type 'Y' else type 'N'\")\n",
    "                random_id = str(random.randint(100,999))\n",
    "                shopping_cart[random_id]={}\n",
    "                shopping_cart[random_id][\"Product ID\"]=productid\n",
    "                shopping_cart[random_id][\"Product Name\"]=inventory_file[productid][\"Product Name\"]\n",
    "                shopping_cart[random_id][\"Price\"]=inventory_file[productid][\"Price\"]\n",
    "                shopping_cart[random_id][\"Quantity\"]=product_quantity\n",
    "                shopping_cart[random_id][\"Total Price\"]=str(total_price)\n",
    "                if user_continue == \"N\".lower():\n",
    "                    if_shopping = False\n",
    "            else:\n",
    "                print(\"Sorry u dont have enough cash because\\nTotal Price is {} and your budjet is {}\".format(total_price,user_budget))\n",
    "                if_shopping = False\n",
    "\n",
    "        elif (int(product_quantity) >= int(inventory_file[productid][\"Quantity\"])):\n",
    "            print(\"Sorry we dont have {} stocks available now\".format(product_quantity))\n",
    "                                 \n",
    "print()           \n",
    "print(\"Thank You for shopping with us :)\")"
   ]
  },
  {
   "cell_type": "code",
   "execution_count": 12,
   "metadata": {},
   "outputs": [
    {
     "name": "stdout",
     "output_type": "stream",
     "text": [
      "We have a special feature i.e enter ur budjet and we will warn you if your budjet exceeds the limit\n",
      "Rs.10000\n",
      "\n",
      "Enter Product Id  116\n",
      "The product u have chosen is : Cashew Nuts(400gm)\n",
      "How many Cashew Nuts(400gm)(s) u want?   300\n",
      "Sorry we dont have 300 stocks available now\n",
      "Enter Product Id  127\n",
      "The product u have chosen is : Gucci\n",
      "How many Gucci(s) u want?   1\n",
      "\n",
      "Item added to cart\n",
      "Total Price is 8350\n",
      "Remaining Budjet is -1650\n",
      "\n",
      "Do u want to continue Shopping? If Yes type 'Y' else type 'N'n\n",
      "\n",
      "Thank You for shopping with us :)\n"
     ]
    }
   ],
   "source": [
    "# Asking the user to shop\n",
    "\n",
    "import random\n",
    "\n",
    "shopping_cart = {}\n",
    "if_shopping = True\n",
    "\n",
    "print(\"We have a special feature i.e enter ur budjet and we will warn you if your budjet exceeds the limit\")\n",
    "user_budget = int(input(\"Rs.\"))\n",
    "remaining_budjet = 0\n",
    "print()\n",
    "while if_shopping:\n",
    "    productid = input(\"Enter Product Id  \")\n",
    "    if productid in inventory_file:\n",
    "        print(f\"The product u have chosen is : {inventory_file[productid]['Product Name']}\")\n",
    "        product_quantity = input(f\"How many {inventory_file[productid]['Product Name']}(s) u want?   \")\n",
    "        if (int(product_quantity) <= int(inventory_file[productid][\"Quantity\"])):\n",
    "            print()\n",
    "            new_product_quantity = int(inventory_file[productid][\"Quantity\"]) - int(product_quantity)\n",
    "            inventory_file[productid][\"Quantity\"] = str(new_product_quantity)\n",
    "            total_price = int(inventory_file[productid][\"Price\"])*int(product_quantity)\n",
    "            if total_price <= user_budget:\n",
    "                print(\"Item added to cart\")\n",
    "                print(f\"Total Price is {total_price}\")\n",
    "                remaining_budjet = (total_price-user_budget)\n",
    "                print(f\"Remaining Budjet is {remaining_budjet}\")\n",
    "                print()\n",
    "                user_continue = input(\"Do u want to continue Shopping? If Yes type 'Y' else type 'N'\")\n",
    "                random_id = str(random.randint(100,999))\n",
    "                shopping_cart[random_id]={}\n",
    "                shopping_cart[random_id][\"Product ID\"]=productid\n",
    "                shopping_cart[random_id][\"Product Name\"]=inventory_file[productid][\"Product Name\"]\n",
    "                shopping_cart[random_id][\"Price\"]=inventory_file[productid][\"Price\"]\n",
    "                shopping_cart[random_id][\"Quantity\"]=product_quantity\n",
    "                shopping_cart[random_id][\"Total Price\"]=str(total_price)\n",
    "                if user_continue == \"N\".lower():\n",
    "                    if_shopping = False\n",
    "            else:\n",
    "                print(\"Sorry u dont have enough cash because\\nTotal Price is {} and your budjet is {}\".format(total_price,user_budget))\n",
    "                if_shopping = False\n",
    "\n",
    "        elif (int(product_quantity) >= int(inventory_file[productid][\"Quantity\"])):\n",
    "            print(\"Sorry we dont have {} stocks available now\".format(product_quantity))\n",
    "                                 \n",
    "print()           \n",
    "print(\"Thank You for shopping with us :)\")\n"
   ]
  },
  {
   "cell_type": "code",
   "execution_count": 13,
   "metadata": {},
   "outputs": [
    {
     "data": {
      "text/plain": [
       "'{\"806\": {\"Product ID\": \"127\", \"Product Name\": \"Gucci\", \"Price\": 8350, \"Quantity\": \"1\", \"Total Price\": \"8350\"}}'"
      ]
     },
     "execution_count": 13,
     "metadata": {},
     "output_type": "execute_result"
    }
   ],
   "source": [
    "sc = js.dumps(shopping_cart)\n",
    "sc"
   ]
  },
  {
   "cell_type": "code",
   "execution_count": 14,
   "metadata": {},
   "outputs": [],
   "source": [
    "shopping_cart_file = open(\"Shopping Cart.json\", \"w\")\n",
    "shopping_cart_file.write(sc)\n",
    "shopping_cart_file.close()"
   ]
  },
  {
   "cell_type": "code",
   "execution_count": 15,
   "metadata": {},
   "outputs": [
    {
     "data": {
      "text/plain": [
       "'{\"806\": {\"Product ID\": \"127\", \"Product Name\": \"Gucci\", \"Price\": 8350, \"Quantity\": \"1\", \"Total Price\": \"8350\"}}'"
      ]
     },
     "execution_count": 15,
     "metadata": {},
     "output_type": "execute_result"
    }
   ],
   "source": [
    "sc_open = open(\"Shopping Cart.json\", \"r\")\n",
    "sc_open.read()"
   ]
  },
  {
   "cell_type": "code",
   "execution_count": 16,
   "metadata": {},
   "outputs": [],
   "source": [
    "sc_open.close()"
   ]
  },
  {
   "cell_type": "code",
   "execution_count": 18,
   "metadata": {},
   "outputs": [
    {
     "name": "stdout",
     "output_type": "stream",
     "text": [
      "Enter your name   Rich Guy\n",
      "\n",
      "+---------------+--------------+--------------------------+----------------------+\n",
      "| Customer Name | Product Name |     Time of Purchase     | Total Billing Amount |\n",
      "+---------------+--------------+--------------------------+----------------------+\n",
      "|    Rich Guy   |    Gucci     | Wed Sep  1 17:15:56 2021 |         8350         |\n",
      "+---------------+--------------+--------------------------+----------------------+\n"
     ]
    }
   ],
   "source": [
    "#Calculating the bill\n",
    "import time\n",
    "from prettytable import PrettyTable\n",
    "\n",
    "bill_table = PrettyTable(['Customer Name', 'Product Name', 'Time of Purchase', 'Total Billing Amount'])\n",
    "total_bill = 0\n",
    "bill={}\n",
    "for amount in shopping_cart:\n",
    "    total_bill += int(shopping_cart[amount][\"Total Price\"])\n",
    "\n",
    "user_name = input(\"Enter your name   \")\n",
    "print()\n",
    "current_time=time.ctime()\n",
    "bill[\"Name\"]=user_name\n",
    "bill[\"Time\"]=current_time\n",
    "bill[\"Total Amount\"]=str(total_bill)\n",
    "bill[\"Product Name\"] = shopping_cart[\"806\"][\"Product Name\"]\n",
    "\n",
    "\n",
    "bill_table.add_row([user_name, bill[\"Product Name\"], current_time, total_bill])\n",
    "print(bill_table)\n",
    "# print(\"Name of Customer: \" +bill[\"Name\"])\n",
    "# print(\"Time of Purchase: \" +bill[\"Time\"])\n",
    "# print(\"Product Name: \" + bill[\"Product Name\"])\n",
    "# print(\"Total Billing Amount: \"+bill[\"Total Amount\"])"
   ]
  },
  {
   "cell_type": "code",
   "execution_count": 19,
   "metadata": {},
   "outputs": [],
   "source": [
    "sales={}\n",
    "sales.update(bill)"
   ]
  },
  {
   "cell_type": "code",
   "execution_count": 20,
   "metadata": {},
   "outputs": [
    {
     "data": {
      "text/plain": [
       "{'Name': 'Rich Guy',\n",
       " 'Time': 'Wed Sep  1 17:15:56 2021',\n",
       " 'Total Amount': '8350',\n",
       " 'Product Name': 'Gucci'}"
      ]
     },
     "execution_count": 20,
     "metadata": {},
     "output_type": "execute_result"
    }
   ],
   "source": [
    "sales"
   ]
  },
  {
   "cell_type": "code",
   "execution_count": 21,
   "metadata": {},
   "outputs": [
    {
     "data": {
      "text/plain": [
       "'{\"Name\": \"Rich Guy\", \"Time\": \"Wed Sep  1 17:15:56 2021\", \"Total Amount\": \"8350\", \"Product Name\": \"Gucci\"}'"
      ]
     },
     "execution_count": 21,
     "metadata": {},
     "output_type": "execute_result"
    }
   ],
   "source": [
    "sales_json = js.dumps(sales)\n",
    "sales_json"
   ]
  },
  {
   "cell_type": "code",
   "execution_count": 22,
   "metadata": {},
   "outputs": [],
   "source": [
    "sales_file = open(\"sales.json\",'w')\n",
    "sales_file.write(sales_json)\n",
    "sales_file.close()"
   ]
  },
  {
   "cell_type": "code",
   "execution_count": 23,
   "metadata": {},
   "outputs": [],
   "source": [
    "sales_file = open(\"sales.json\",'r')\n",
    "sales_content = sales_file.read()\n",
    "sales_file.close()"
   ]
  },
  {
   "cell_type": "code",
   "execution_count": 24,
   "metadata": {},
   "outputs": [
    {
     "data": {
      "text/plain": [
       "{'Name': 'Rich Guy',\n",
       " 'Time': 'Wed Sep  1 17:15:56 2021',\n",
       " 'Total Amount': '8350',\n",
       " 'Product Name': 'Gucci'}"
      ]
     },
     "execution_count": 24,
     "metadata": {},
     "output_type": "execute_result"
    }
   ],
   "source": [
    "todays_sales = js.loads(sales_content)\n",
    "todays_sales"
   ]
  },
  {
   "cell_type": "code",
   "execution_count": null,
   "metadata": {},
   "outputs": [],
   "source": []
  }
 ],
 "metadata": {
  "kernelspec": {
   "display_name": "Python 3",
   "language": "python",
   "name": "python3"
  },
  "language_info": {
   "codemirror_mode": {
    "name": "ipython",
    "version": 3
   },
   "file_extension": ".py",
   "mimetype": "text/x-python",
   "name": "python",
   "nbconvert_exporter": "python",
   "pygments_lexer": "ipython3",
   "version": "3.7.4"
  }
 },
 "nbformat": 4,
 "nbformat_minor": 2
}
